{
 "cells": [
  {
   "cell_type": "code",
   "execution_count": 2,
   "metadata": {},
   "outputs": [],
   "source": [
    "import pandas as pd\n",
    "import numpy as np\n",
    "import os"
   ]
  },
  {
   "cell_type": "code",
   "execution_count": null,
   "metadata": {},
   "outputs": [],
   "source": [
    "'''\n",
    "- data_supplied is all data from user\n",
    "\n",
    "- data_full is data full infomation\n",
    "\n",
    "- data_from_t24 is data extra from t24\n",
    "\n",
    "- data_account_from_t24 is name account from t24\n",
    "\n",
    "'''"
   ]
  },
  {
   "cell_type": "markdown",
   "metadata": {},
   "source": [
    "# # import data"
   ]
  },
  {
   "cell_type": "code",
   "execution_count": null,
   "metadata": {},
   "outputs": [],
   "source": [
    "# import data\n",
    "def import_data(folder):\n",
    "    data_supplied = []\n",
    "    for file in os.listdir(folder):\n",
    "        df = pd.read_excel(os.path.join(folder, file), dtype=object)\n",
    "        data_supplied.append(df)\n",
    "        data_supplied = pd.concat(data_supplied)\n",
    "\n",
    "    return data_supplied\n",
    "\n",
    "data_supplied = import_data('fileDataSupplied')\n",
    "\n"
   ]
  },
  {
   "cell_type": "markdown",
   "metadata": {},
   "source": [
    "#  # transform data supplied"
   ]
  },
  {
   "cell_type": "code",
   "execution_count": null,
   "metadata": {},
   "outputs": [],
   "source": [
    "# Remove duplicate columns ID\n",
    "data_supplied.drop_duplicates('ID', inplace=True)\n",
    "\n",
    "# remove comma\n",
    "def processFT(x): \n",
    "    # Take first 12 character if is FT\n",
    "\n",
    "    if x.startswith(\"FT\"):\n",
    "        x = x[:12]\n",
    "        return x\n",
    "    else:\n",
    "        return x\n",
    "\n",
    "data_supplied['ID'] = data_supplied['ID'].apply(processFT)\n"
   ]
  },
  {
   "cell_type": "markdown",
   "metadata": {},
   "source": [
    "# # Export file SQL"
   ]
  },
  {
   "cell_type": "code",
   "execution_count": null,
   "metadata": {},
   "outputs": [],
   "source": [
    "dict_data ={}\n",
    "\n",
    "\n",
    "for index, row in data_supplied.iterrows():\n",
    "\n",
    "    if row['ID'].startswith('FT'):\n",
    "        if row['TKNO'] is np.NaN or row['TKNO'].startswith(('VND','PL')): \n",
    "\n",
    "            if row['TKCO'] in dict_data:\n",
    "                dict_data[row['TKCO']] = dict_data[row['TKCO']] + f\",'{row['ID'][:12]}'\"\n",
    "    \n",
    "            else:\n",
    "                dict_data[row['TKCO']] = f\"'{row['ID'][:12]}'\"\n",
    "        else:\n",
    "\n",
    "            if row['TKNO'] in dict_data:\n",
    "                dict_data[row['TKNO']] = dict_data[row['TKNO']] + f\",'{row['ID'][:12]}'\"\n",
    "            else:\n",
    "                dict_data[row['TKNO']] = f\"'{row['ID'][:12]}'\"\n",
    "\n",
    "\n",
    "# dict_data\n",
    "for key, value in dict_data.items():\n",
    "    account = key\n",
    "    list_ft = value\n",
    "    count = len(value.split(\",\"))\n",
    "    if len(value.split(\",\")) < 1000:\n",
    "    # account =key\n",
    "    # list_ft = value\n",
    "        with open(os.path.join('OCBDWP'+ f\"//{account}.txt\"), mode='w', encoding= \"utf-8-sig\") as file:\n",
    "            file.write(f'''\n",
    "-- OCBDWP\n",
    "select ft_no trans_no\n",
    ", ben_acct_no tai_khoan_doi_ung\n",
    ", ben_cust_name ten_doi_ung\n",
    ", ben_bank_name ngan_hang_doi_ung\n",
    "from ocbdwp.v_cust_acct_stmt_ben\n",
    "where account = '{account}'\n",
    "and ft_no in (\n",
    "{list_ft}\n",
    ")\n",
    "and ben_acct_no is not null\n",
    "''')\n",
    "        with open(os.path.join('ESBDATA'+ f\"//{account}.txt\"), mode='w', encoding= \"utf-8-sig\") as file:\n",
    "            file.write(f'''\n",
    "-- ESBDATA\n",
    "select t1.t24_trans_no trans_no, t1.field_102 as tai_khoan_doi_ung, t1.field_48 as ten_doi_ung\n",
    ", srcbnk.name as ngan_hang_doi_ung\n",
    "from esbdata.transactions t inner join ESBDATA.smartlink_transaction_trace t1 \n",
    "on t.trans_id = t1.serial_no\n",
    "left join ESBDATA.smartlink_banks_ben srcbnk on t1.field_32 = srcbnk.code\n",
    "left join esbdata.smartlink_banks_ben dstbnk on t1.field_100 = dstbnk.code\n",
    "where t.trans_no in (\n",
    "{list_ft}\n",
    ")\n",
    "and t1.field_102 <> '{account}'\n",
    "and t1.t24_trans_no is not null\n",
    "union all\n",
    "select t1.t24_trans_no trans_no, t1.field_103 tai_khoan_doi_ung, t1.field_120 ten_doi_ung, dstbnk.NAME ngan_hang_doi_ung\n",
    "from esbdata.transactions t inner join ESBDATA.smartlink_transaction_trace t1 \n",
    "on t.trans_id = t1.serial_no\n",
    "left join ESBDATA.smartlink_banks_ben srcbnk on t1.field_32 = srcbnk.code\n",
    "left join esbdata.smartlink_banks_ben dstbnk on t1.field_100 = dstbnk.code\n",
    "where t.trans_no in (\n",
    "{list_ft}\n",
    ")\n",
    "and t1.field_103 <> '{account}'\n",
    "and t1.t24_trans_no is not null\n",
    "union all\n",
    "select t2.trans_no, t1.debit_account_no as tai_khoan_doi_ung, da.t_short_title as ten_doi_ung\n",
    ", 'Ngân hàng TMCP Phương Đông (OCB)' as ngan_hang_doi_ung\n",
    "from ESBDATA.omni_transaction_hist t1 inner join ESBDATA.transactions t2 on t1.trans_id=t2.trans_id\n",
    "inner join ESBDATA.t24_account da on t1.debit_account_no = da.id\n",
    "inner join ESBDATA.t24_account ca on t1.credit_account = ca.id\n",
    "where t1.payment_type='InternalPayment' and t2.trans_no in (\n",
    "{list_ft}\n",
    ")\n",
    "and t1.debit_account_no <> '{account}'\n",
    "union all\n",
    "select t2.trans_no, t1.credit_account as tai_khoan_doi_ung\n",
    ", ca.t_short_title as ten_doi_ung, 'Ngân hàng TMCP Phương Đông (OCB)' ngan_hang_doi_ung\n",
    "from ESBDATA.omni_transaction_hist t1 inner join ESBDATA.transactions t2 on t1.trans_id=t2.trans_id\n",
    "inner join ESBDATA.t24_account da on t1.debit_account_no = da.id\n",
    "inner join ESBDATA.t24_account ca on t1.credit_account = ca.id\n",
    "where t1.payment_type='InternalPayment' and t2.trans_no in (\n",
    "{list_ft}\n",
    ")\n",
    "and t1.credit_account <> '{account}'\n",
    "''')\n",
    "    if len(value.split(\",\")) >= 1000:\n",
    "        a = value.split(\",\")\n",
    "        sl_file = (count // 1000) + 1\n",
    "        sl_row = (count // sl_file)  + 1\n",
    "        start = 1\n",
    "        start_index = 0\n",
    "        end_index = sl_row\n",
    "        while start <= sl_file:\n",
    "            new_list_a = a[start_index:end_index]\n",
    "            list_ft = ','.join(new_list_a)\n",
    "            with open(os.path.join('OCBDWP'+ f\"//{account}_{start}.txt\"), mode='w', encoding= \"utf-8-sig\") as file:\n",
    "                file.write(f'''\n",
    "-- OCBDWP\n",
    "select ft_no trans_no\n",
    ", ben_acct_no tai_khoan_doi_ung\n",
    ", ben_cust_name ten_doi_ung\n",
    ", ben_bank_name ngan_hang_doi_ung\n",
    "from ocbdwp.v_cust_acct_stmt_ben\n",
    "where account = '{account}'\n",
    "and ft_no in (\n",
    "{list_ft}\n",
    ")\n",
    "and ben_acct_no is not null\n",
    "''')\n",
    "            with open(os.path.join('ESBDATA'+ f\"//{account}_{start}.txt\"), mode='w', encoding= \"utf-8-sig\") as file:\n",
    "                file.write(f'''\n",
    "-- ESBDATA\n",
    "select t1.t24_trans_no trans_no, t1.field_102 as tai_khoan_doi_ung, t1.field_48 as ten_doi_ung\n",
    ", srcbnk.name as ngan_hang_doi_ung\n",
    "from esbdata.transactions t inner join ESBDATA.smartlink_transaction_trace t1 \n",
    "on t.trans_id = t1.serial_no\n",
    "left join ESBDATA.smartlink_banks_ben srcbnk on t1.field_32 = srcbnk.code\n",
    "left join esbdata.smartlink_banks_ben dstbnk on t1.field_100 = dstbnk.code\n",
    "where t.trans_no in (\n",
    "{list_ft}\n",
    ")\n",
    "and t1.field_102 <> '{account}'\n",
    "and t1.t24_trans_no is not null\n",
    "union all\n",
    "select t1.t24_trans_no trans_no, t1.field_103 tai_khoan_doi_ung, t1.field_120 ten_doi_ung, dstbnk.NAME ngan_hang_doi_ung\n",
    "from esbdata.transactions t inner join ESBDATA.smartlink_transaction_trace t1 \n",
    "on t.trans_id = t1.serial_no\n",
    "left join ESBDATA.smartlink_banks_ben srcbnk on t1.field_32 = srcbnk.code\n",
    "left join esbdata.smartlink_banks_ben dstbnk on t1.field_100 = dstbnk.code\n",
    "where t.trans_no in (\n",
    "{list_ft}\n",
    ")\n",
    "and t1.field_103 <> '{account}'\n",
    "and t1.t24_trans_no is not null\n",
    "union all\n",
    "select t2.trans_no, t1.debit_account_no as tai_khoan_doi_ung, da.t_short_title as ten_doi_ung\n",
    ", 'Ngân hàng TMCP Phương Đông (OCB)' as ngan_hang_doi_ung\n",
    "from ESBDATA.omni_transaction_hist t1 inner join ESBDATA.transactions t2 on t1.trans_id=t2.trans_id\n",
    "inner join ESBDATA.t24_account da on t1.debit_account_no = da.id\n",
    "inner join ESBDATA.t24_account ca on t1.credit_account = ca.id\n",
    "where t1.payment_type='InternalPayment' and t2.trans_no in (\n",
    "{list_ft}\n",
    ")\n",
    "and t1.debit_account_no <> '{account}'\n",
    "union all\n",
    "select t2.trans_no, t1.credit_account as tai_khoan_doi_ung\n",
    ", ca.t_short_title as ten_doi_ung, 'Ngân hàng TMCP Phương Đông (OCB)' ngan_hang_doi_ung\n",
    "from ESBDATA.omni_transaction_hist t1 inner join ESBDATA.transactions t2 on t1.trans_id=t2.trans_id\n",
    "inner join ESBDATA.t24_account da on t1.debit_account_no = da.id\n",
    "inner join ESBDATA.t24_account ca on t1.credit_account = ca.id\n",
    "where t1.payment_type='InternalPayment' and t2.trans_no in (\n",
    "{list_ft}\n",
    ")\n",
    "and t1.credit_account <> '{account}'\n",
    "''')\n",
    "            start_index = end_index\n",
    "            end_index = end_index + sl_row\n",
    "            start +=1\n",
    "# sql.close()\n",
    "file.close()"
   ]
  },
  {
   "cell_type": "markdown",
   "metadata": {},
   "source": [
    "# # Data Full"
   ]
  },
  {
   "cell_type": "code",
   "execution_count": null,
   "metadata": {},
   "outputs": [],
   "source": [
    "# Import data\n",
    "data_full = import_data('fileDataFull')\n",
    "\n",
    "# Remove duplicate\n",
    "data_full.drop_duplicates('TRANS_NO', inplace=True)\n",
    "\n",
    "# Merge with file data_supplied\n",
    "data_supplied = pd.merge(data_supplied, data_full, how=\"left\", left_on=\"ID\", right_on=\"TRANS_NO\")\n",
    "\n",
    "# Filter FT not value\n",
    "df = data_supplied[data_supplied['TRANS_NO'].isna()]\n",
    "\n"
   ]
  },
  {
   "attachments": {},
   "cell_type": "markdown",
   "metadata": {},
   "source": [
    "# ____"
   ]
  },
  {
   "cell_type": "code",
   "execution_count": 53,
   "metadata": {},
   "outputs": [],
   "source": [
    "df = pd.read_excel(r\"D:\\python\\bank-Statement\\check-Statements-File\\statement_Special\\#392109\\#392109_full.xlsx\", dtype=object)\n",
    "\n",
    "def processFT(x): #Take first 12 character if is FT\n",
    "\n",
    "    if x.startswith(\"FT\"):\n",
    "        x = x[:12]\n",
    "        return x\n",
    "    else:\n",
    "        return x\n",
    "\n",
    "df['ID'] = df['ID'].apply(processFT)\n",
    "\n",
    "df.drop_duplicates('ID', inplace=True)\n"
   ]
  },
  {
   "attachments": {},
   "cell_type": "markdown",
   "metadata": {},
   "source": [
    "# DF FT"
   ]
  },
  {
   "cell_type": "code",
   "execution_count": 54,
   "metadata": {},
   "outputs": [],
   "source": [
    "df_FT = pd.read_excel(r\"D:\\python\\bank-Statement\\check-Statements-File\\statement_Special\\#392109\\data_FT.xlsx\", dtype=object)\n",
    "\n",
    "# Remove duplicate\n",
    "df_FT.drop_duplicates('TRANS_NO', inplace=True)\n",
    "\n",
    "df_result_1 = pd.merge(df, df_FT, how='left', left_on='ID', right_on='TRANS_NO')\n",
    "\n",
    "df_result_1.to_excel(r\"D:\\python\\bank-Statement\\check-Statements-File\\statement_Special\\#392109\\df_result_1.xlsx\", index=False)\n",
    "\n",
    "# df_result_2[df_result_2['TRANS_NO'].isna()]"
   ]
  },
  {
   "attachments": {},
   "cell_type": "markdown",
   "metadata": {},
   "source": [
    "# DF FT EXTRA"
   ]
  },
  {
   "cell_type": "code",
   "execution_count": 55,
   "metadata": {},
   "outputs": [],
   "source": [
    "df_FT_extra = pd.read_excel(r\"D:\\python\\bank-Statement\\check-Statements-File\\statement_Special\\#392109\\data_FT_extra.xlsx\", dtype=object)\n",
    "\n",
    "\n",
    "def processFT(x): #Take first 12 character if is FT\n",
    "\n",
    "    if x.startswith(\"FT\"):\n",
    "        x = x[:12]\n",
    "        return x\n",
    "    else:\n",
    "        return x\n",
    "\n",
    "df_FT_extra['FT_NO'] = df_FT_extra['FT_NO'].apply(processFT)\n",
    "\n",
    "df_FT_extra.drop_duplicates('FT_NO', inplace=True)\n",
    "\n",
    "df_result_2 = pd.merge(df_result_1, df_FT_extra, how='left', left_on='ID', right_on='FT_NO')"
   ]
  },
  {
   "cell_type": "code",
   "execution_count": 56,
   "metadata": {},
   "outputs": [],
   "source": [
    "for index, row in df_result_2.iterrows():\n",
    "    if row['FT_NO'] is not np.NaN:\n",
    "        if row['DEBIT_ACCOUNT'] == row['TAI_KHOAN_DOI_UNG']:\n",
    "            row['DEBIT_ACCOUNT'] = ''\n",
    "        else:\n",
    "            row['CREDIT_ACCOUNT'] = ''\n",
    "\n",
    "df_result_2['TAI_KHOAN_DOI_UNG'] = df_result_2['TAI_KHOAN_DOI_UNG'].fillna('') + df_result_2['DEBIT_ACCOUNT'].fillna('') + df_result_2['CREDIT_ACCOUNT'].fillna('')\n",
    "\n",
    "col_remove = ['FT_NO','DEBIT_ACCOUNT', 'CREDIT_ACCOUNT']\n",
    "df_result_2 = df_result_2.drop(col_remove, axis=1)"
   ]
  },
  {
   "cell_type": "code",
   "execution_count": 52,
   "metadata": {},
   "outputs": [],
   "source": [
    "# df_result_2.to_excel(r\"D:\\python\\bank-Statement\\check-Statements-File\\statement_Special\\#392109\\df_result_2.xlsx\", index=False)\n"
   ]
  },
  {
   "attachments": {},
   "cell_type": "markdown",
   "metadata": {},
   "source": [
    "# Check Account"
   ]
  },
  {
   "cell_type": "code",
   "execution_count": 58,
   "metadata": {},
   "outputs": [
    {
     "data": {
      "text/plain": [
       "Index(['DATA_DATE', 'MACN', 'TENCN', 'ID', 'TKNO', 'CIF_TKNO', 'TEN_TKNO',\n",
       "       'LOAI_GIAYTO_KH_TKNO', 'MA_GIAYTO_KH_TKNO', 'NGOAITE_TKNO',\n",
       "       'SOTIEN_NT_TKNO', 'SOTIEN_QD_TKNO', 'TKCO', 'CIF_TKCO', 'TEN_TKCO',\n",
       "       'NGOAITE_TKCO', 'LOAI_GIAYTO_KH_TKNO.1', 'MA_GIAYTO_KH_TKNO.1',\n",
       "       'SOTIEN_NT_TKCO', 'SOTIEN_QD_TKCO', 'NOIDUNG', 'TRANS_NO',\n",
       "       'TAI_KHOAN_DOI_UNG', 'TEN_DOI_UNG', 'NGAN_HANG_DOI_UNG',\n",
       "       'T_TRANSACTION_TYPE', 'DEBIT_ACCOUNT_NAME', 'BENEFICIARY',\n",
       "       'BENEFICIARY_ADDRESS'],\n",
       "      dtype='object')"
      ]
     },
     "execution_count": 58,
     "metadata": {},
     "output_type": "execute_result"
    }
   ],
   "source": [
    "df_result_2.columns"
   ]
  },
  {
   "cell_type": "code",
   "execution_count": 80,
   "metadata": {},
   "outputs": [],
   "source": [
    "# Collect a\n",
    "\n",
    "dict_account = {}\n",
    "for index, row in df_result_2.iterrows():\n",
    "    if row['TKNO'] not in dict_account:\n",
    "        dict_account[row['TKNO']] = row['TEN_TKNO']\n",
    "\n",
    "    if row['TKCO'] not in dict_account:\n",
    "        dict_account[row['TKCO']] = row['TEN_TKCO']\n",
    "        \n",
    "    if row['TEN_DOI_UNG'] is not np.NaN and row['TEN_DOI_UNG'] not in dict_account:\n",
    "        dict_account[row['TAI_KHOAN_DOI_UNG']] = row['TEN_DOI_UNG']\n",
    "\n"
   ]
  },
  {
   "cell_type": "code",
   "execution_count": 82,
   "metadata": {},
   "outputs": [
    {
     "name": "stdout",
     "output_type": "stream",
     "text": [
      "{'2022': \"'0999999686868','070004668713','5503215056690','4509205023131','070004668713','060249326081','6016082003333','070113849401','4509205023131','070004668713','0111000338569','0001454495291','19038303013014','1013774354','603057150700001','102005123427','18072567','070133973379','0971145013','0111000353128','0000105056789','611094469900001','0841000073961','19036060845021','0181002437385','0111000187557','1629999999','9704229204515980192','1800205123578','7712205138984','105006916734','070066706867','7290737','7712205138984','102875517131','0531002581679','1019368349','334345566789','0833838178','12376987','102005123427','1019368349','0000105056789','7712222293939','7712205033667','070077954587','105006916734','104871241897','6688883979','0983586586','7712205101354','1015320735','0983586586','1027743256','107006610478','1890205162437','070101122997','1660566666','9017041007857','0111000628498','1028707725','070119504031','070101122997','7508205152015','7712205033667','07001011985846','14021471014011','31196203','119000145020','0711000261989','20013001','0111000225914','700012605151','0841000024053','1800205047042','106868757009','070075684159','190907106868'\", '2023': \"'0949228028','1022091972','1028607368','070055811359','003069840001','102875517131','1800259229282','0111000302692','892168687979','0111000333964','0939627272','070055811359','070055811359','1018139568','0111000252368','0111000169199','070123547983','0104139302','102868886566','070055811359','0111000352241','74110000295986','032704070003058','0775964115','dalatcava','VQRQ00000uv8i','0964445427','404001060000303','0775964115','0111001485967','000001211569','070055811359','0111001066422','255732331','032704070003058','70210000130976','019477764','105000486923','0111000333964','1030435198','003069840001','4650606789','0907883989','Huynhnhu22','0111000282630','103869489703','9903968921','0932962434','0946411546','khopkhunthai','19022584619011','0111000237142','1022091972','9939198989','0198119828888','19035679432019','74110001067939','VQRQ00000uv8i','102868693314','0111000224679','070055811359','0111000318888','011355282','0111000165233','74210000507192','9037041062249','0111000372544','0775964115','003069840001','070095269141','1019745130','0071000884846','0902969363','0962994644','0111000750633','231200123122','667896868668','1700110650240001','999990918192980','255732331','73010000012316','1800205411858','3572466554','678704060040259','101869743319','050069546789','070123547983','1033443744','108004860243','0111000300673','1015691545','73010001547981','0111001250853','1013009828','0171003488774','676778899','0933715518','107871903811','22442117','102873924787','700024403073','74210000507192','VQRQ00000uv8i','666668686668','0989124678','0909390303','0111000750633','73010000012316','22442117','003069840001','0382552049','101876436373','05137017501','97929091997','19037020718015','VQRQ00000uv8i'\"}\n"
     ]
    }
   ],
   "source": [
    "# Check account column TEN_DOI_UNG\n",
    "\n",
    "account_by_year = {}\n",
    "for index, row in df_result_2.iterrows():\n",
    "    if row['TEN_DOI_UNG'] is np.NaN:\n",
    "        if row['TAI_KHOAN_DOI_UNG'] in dict_account:\n",
    "            row['TEN_DOI_UNG'] = dict_account[row['TAI_KHOAN_DOI_UNG']]\n",
    "        else:\n",
    "            if row['DATA_DATE'][:4] in account_by_year:\n",
    "                account_by_year[row['DATA_DATE'][:4]] = account_by_year[row['DATA_DATE'][:4]] + f\",'{row['TAI_KHOAN_DOI_UNG']}'\"\n",
    "            else:\n",
    "                account_by_year[row['DATA_DATE'][:4]] = f\"'{row['TAI_KHOAN_DOI_UNG']}'\"\n",
    "print(account_by_year)"
   ]
  },
  {
   "cell_type": "code",
   "execution_count": 79,
   "metadata": {},
   "outputs": [],
   "source": [
    "# Export file SQL select account 2022, 2023\n",
    "# Need to add more some years than older\n",
    "\n",
    "\n",
    "for year, accounts in account_by_year.items():\n",
    "\n",
    "    count = len(accounts.split(\",\"))\n",
    "    \n",
    "    if len(accounts.split(\",\")) < 1000:\n",
    "        with open(os.path.join('sqlAccount'+ f\"//{year}.txt\"), mode='w', encoding= \"utf-8-sig\") as file:\n",
    "            file.write(f'''\n",
    "-- OCBDWP\n",
    "SELECT DISTINCT id,\n",
    "  t_short_title\n",
    "FROM  ocbdw.t24_account\n",
    "WHERE id IN ({accounts})\n",
    "''')\n",
    "    if len(accounts.split(\",\")) >= 1000:\n",
    "        a = accounts.split(\",\")\n",
    "        sl_file = (count // 1000) + 1\n",
    "        sl_row = (count // sl_file)  + 1\n",
    "        start = 1\n",
    "        start_index = 0\n",
    "        end_index = sl_row\n",
    "        while start <= sl_file:\n",
    "            new_list_a = a[start_index:end_index]\n",
    "            list_ft = ','.join(new_list_a)\n",
    "            with open(os.path.join('OCBDWP'+ f\"//{year}_{start}.txt\"), mode='w', encoding= \"utf-8-sig\") as file:\n",
    "                file.write(f'''\n",
    "-- OCBDWP\n",
    "SELECT DISTINCT id,\n",
    "  t_short_title\n",
    "FROM  ocbdw.t24_account\n",
    "WHERE id IN ({accounts})\n",
    "''')\n",
    "\n",
    "            start_index = end_index\n",
    "            end_index = end_index + sl_row\n",
    "            start +=1\n",
    "# sql.close()\n",
    "file.close()"
   ]
  },
  {
   "cell_type": "code",
   "execution_count": null,
   "metadata": {},
   "outputs": [],
   "source": []
  },
  {
   "attachments": {},
   "cell_type": "markdown",
   "metadata": {},
   "source": [
    "# ------"
   ]
  },
  {
   "cell_type": "code",
   "execution_count": 44,
   "metadata": {},
   "outputs": [],
   "source": [
    "folder = r'fileStatements'\n",
    "listDataframe = []\n",
    "\n",
    "for file in os.listdir(folder):\n",
    "    df = pd.read_excel(os.path.join(folder, file), dtype=object)\n",
    "    listDataframe.append(df)\n",
    "df_full = pd.concat(listDataframe)"
   ]
  },
  {
   "cell_type": "code",
   "execution_count": 3,
   "metadata": {},
   "outputs": [],
   "source": [
    "df_full = pd.read_excel(r'#392109/#392109_full.xlsx', dtype=object)"
   ]
  },
  {
   "cell_type": "code",
   "execution_count": 4,
   "metadata": {},
   "outputs": [
    {
     "data": {
      "text/plain": [
       "Index(['DATA_DATE', 'MACN', 'TENCN', 'ID', 'TKNO', 'CIF_TKNO', 'TEN_TKNO',\n",
       "       'LOAI_GIAYTO_KH_TKNO', 'MA_GIAYTO_KH_TKNO', 'NGOAITE_TKNO',\n",
       "       'SOTIEN_NT_TKNO', 'SOTIEN_QD_TKNO', 'TKCO', 'CIF_TKCO', 'TEN_TKCO',\n",
       "       'NGOAITE_TKCO', 'LOAI_GIAYTO_KH_TKNO.1', 'MA_GIAYTO_KH_TKNO.1',\n",
       "       'SOTIEN_NT_TKCO', 'SOTIEN_QD_TKCO', 'NOIDUNG'],\n",
       "      dtype='object')"
      ]
     },
     "execution_count": 4,
     "metadata": {},
     "output_type": "execute_result"
    }
   ],
   "source": [
    "df_full.columns"
   ]
  },
  {
   "cell_type": "code",
   "execution_count": 6,
   "metadata": {},
   "outputs": [],
   "source": [
    "df_full.drop_duplicates('ID', inplace=True)"
   ]
  },
  {
   "cell_type": "code",
   "execution_count": 15,
   "metadata": {},
   "outputs": [
    {
     "name": "stdout",
     "output_type": "stream",
     "text": [
      "0\n",
      "0044100000052002\n"
     ]
    }
   ],
   "source": [
    "for index, row in df_full.iterrows():\n",
    "\n",
    "    if not row['TKNO'].startswith('FT'):\n",
    "        print(index)\n",
    "        print(row['TKNO'])\n",
    "        break"
   ]
  },
  {
   "cell_type": "code",
   "execution_count": 19,
   "metadata": {},
   "outputs": [],
   "source": [
    "dict_data ={}\n",
    "\n",
    "\n",
    "for index, row in df_full.iterrows():\n",
    "\n",
    "    if row['ID'].startswith('FT'):\n",
    "        if row['TKNO'] is np.NaN or row['TKNO'].startswith(('VND','PL')): \n",
    "\n",
    "            if row['TKCO'] in dict_data:\n",
    "                dict_data[row['TKCO']] = dict_data[row['TKCO']] + f\",'{row['ID'][:12]}'\"\n",
    "    \n",
    "            else:\n",
    "                dict_data[row['TKCO']] = f\"'{row['ID'][:12]}'\"\n",
    "        else:\n",
    "\n",
    "            if row['TKNO'] in dict_data:\n",
    "                dict_data[row['TKNO']] = dict_data[row['TKNO']] + f\",'{row['ID'][:12]}'\"\n",
    "            else:\n",
    "                dict_data[row['TKNO']] = f\"'{row['ID'][:12]}'\"\n",
    "\n",
    "\n",
    "# dict_data\n",
    "for key, value in dict_data.items():\n",
    "    account = key\n",
    "    list_ft = value\n",
    "    count = len(value.split(\",\"))\n",
    "    if len(value.split(\",\")) < 1000:\n",
    "    # account =key\n",
    "    # list_ft = value\n",
    "        with open(os.path.join('OCBDWP'+ f\"//{account}.txt\"), mode='w', encoding= \"utf-8-sig\") as file:\n",
    "            file.write(f'''\n",
    "-- OCBDWP\n",
    "select ft_no trans_no\n",
    ", ben_acct_no tai_khoan_doi_ung\n",
    ", ben_cust_name ten_doi_ung\n",
    ", ben_bank_name ngan_hang_doi_ung\n",
    "from ocbdwp.v_cust_acct_stmt_ben\n",
    "where account = '{account}'\n",
    "and ft_no in (\n",
    "{list_ft}\n",
    ")\n",
    "and ben_acct_no is not null\n",
    "''')\n",
    "        with open(os.path.join('ESBDATA'+ f\"//{account}.txt\"), mode='w', encoding= \"utf-8-sig\") as file:\n",
    "            file.write(f'''\n",
    "-- ESBDATA\n",
    "select t1.t24_trans_no trans_no, t1.field_102 as tai_khoan_doi_ung, t1.field_48 as ten_doi_ung\n",
    ", srcbnk.name as ngan_hang_doi_ung\n",
    "from esbdata.transactions t inner join ESBDATA.smartlink_transaction_trace t1 \n",
    "on t.trans_id = t1.serial_no\n",
    "left join ESBDATA.smartlink_banks_ben srcbnk on t1.field_32 = srcbnk.code\n",
    "left join esbdata.smartlink_banks_ben dstbnk on t1.field_100 = dstbnk.code\n",
    "where t.trans_no in (\n",
    "{list_ft}\n",
    ")\n",
    "and t1.field_102 <> '{account}'\n",
    "and t1.t24_trans_no is not null\n",
    "union all\n",
    "select t1.t24_trans_no trans_no, t1.field_103 tai_khoan_doi_ung, t1.field_120 ten_doi_ung, dstbnk.NAME ngan_hang_doi_ung\n",
    "from esbdata.transactions t inner join ESBDATA.smartlink_transaction_trace t1 \n",
    "on t.trans_id = t1.serial_no\n",
    "left join ESBDATA.smartlink_banks_ben srcbnk on t1.field_32 = srcbnk.code\n",
    "left join esbdata.smartlink_banks_ben dstbnk on t1.field_100 = dstbnk.code\n",
    "where t.trans_no in (\n",
    "{list_ft}\n",
    ")\n",
    "and t1.field_103 <> '{account}'\n",
    "and t1.t24_trans_no is not null\n",
    "union all\n",
    "select t2.trans_no, t1.debit_account_no as tai_khoan_doi_ung, da.t_short_title as ten_doi_ung\n",
    ", 'Ngân hàng TMCP Phương Đông (OCB)' as ngan_hang_doi_ung\n",
    "from ESBDATA.omni_transaction_hist t1 inner join ESBDATA.transactions t2 on t1.trans_id=t2.trans_id\n",
    "inner join ESBDATA.t24_account da on t1.debit_account_no = da.id\n",
    "inner join ESBDATA.t24_account ca on t1.credit_account = ca.id\n",
    "where t1.payment_type='InternalPayment' and t2.trans_no in (\n",
    "{list_ft}\n",
    ")\n",
    "and t1.debit_account_no <> '{account}'\n",
    "union all\n",
    "select t2.trans_no, t1.credit_account as tai_khoan_doi_ung\n",
    ", ca.t_short_title as ten_doi_ung, 'Ngân hàng TMCP Phương Đông (OCB)' ngan_hang_doi_ung\n",
    "from ESBDATA.omni_transaction_hist t1 inner join ESBDATA.transactions t2 on t1.trans_id=t2.trans_id\n",
    "inner join ESBDATA.t24_account da on t1.debit_account_no = da.id\n",
    "inner join ESBDATA.t24_account ca on t1.credit_account = ca.id\n",
    "where t1.payment_type='InternalPayment' and t2.trans_no in (\n",
    "{list_ft}\n",
    ")\n",
    "and t1.credit_account <> '{account}'\n",
    "''')\n",
    "    if len(value.split(\",\")) >= 1000:\n",
    "        a = value.split(\",\")\n",
    "        sl_file = (count // 1000) + 1\n",
    "        sl_row = (count // sl_file)  + 1\n",
    "        start = 1\n",
    "        start_index = 0\n",
    "        end_index = sl_row\n",
    "        while start <= sl_file:\n",
    "            new_list_a = a[start_index:end_index]\n",
    "            list_ft = ','.join(new_list_a)\n",
    "            with open(os.path.join('OCBDWP'+ f\"//{account}_{start}.txt\"), mode='w', encoding= \"utf-8-sig\") as file:\n",
    "                file.write(f'''\n",
    "-- OCBDWP\n",
    "select ft_no trans_no\n",
    ", ben_acct_no tai_khoan_doi_ung\n",
    ", ben_cust_name ten_doi_ung\n",
    ", ben_bank_name ngan_hang_doi_ung\n",
    "from ocbdwp.v_cust_acct_stmt_ben\n",
    "where account = '{account}'\n",
    "and ft_no in (\n",
    "{list_ft}\n",
    ")\n",
    "and ben_acct_no is not null\n",
    "''')\n",
    "            with open(os.path.join('ESBDATA'+ f\"//{account}_{start}.txt\"), mode='w', encoding= \"utf-8-sig\") as file:\n",
    "                file.write(f'''\n",
    "-- ESBDATA\n",
    "select t1.t24_trans_no trans_no, t1.field_102 as tai_khoan_doi_ung, t1.field_48 as ten_doi_ung\n",
    ", srcbnk.name as ngan_hang_doi_ung\n",
    "from esbdata.transactions t inner join ESBDATA.smartlink_transaction_trace t1 \n",
    "on t.trans_id = t1.serial_no\n",
    "left join ESBDATA.smartlink_banks_ben srcbnk on t1.field_32 = srcbnk.code\n",
    "left join esbdata.smartlink_banks_ben dstbnk on t1.field_100 = dstbnk.code\n",
    "where t.trans_no in (\n",
    "{list_ft}\n",
    ")\n",
    "and t1.field_102 <> '{account}'\n",
    "and t1.t24_trans_no is not null\n",
    "union all\n",
    "select t1.t24_trans_no trans_no, t1.field_103 tai_khoan_doi_ung, t1.field_120 ten_doi_ung, dstbnk.NAME ngan_hang_doi_ung\n",
    "from esbdata.transactions t inner join ESBDATA.smartlink_transaction_trace t1 \n",
    "on t.trans_id = t1.serial_no\n",
    "left join ESBDATA.smartlink_banks_ben srcbnk on t1.field_32 = srcbnk.code\n",
    "left join esbdata.smartlink_banks_ben dstbnk on t1.field_100 = dstbnk.code\n",
    "where t.trans_no in (\n",
    "{list_ft}\n",
    ")\n",
    "and t1.field_103 <> '{account}'\n",
    "and t1.t24_trans_no is not null\n",
    "union all\n",
    "select t2.trans_no, t1.debit_account_no as tai_khoan_doi_ung, da.t_short_title as ten_doi_ung\n",
    ", 'Ngân hàng TMCP Phương Đông (OCB)' as ngan_hang_doi_ung\n",
    "from ESBDATA.omni_transaction_hist t1 inner join ESBDATA.transactions t2 on t1.trans_id=t2.trans_id\n",
    "inner join ESBDATA.t24_account da on t1.debit_account_no = da.id\n",
    "inner join ESBDATA.t24_account ca on t1.credit_account = ca.id\n",
    "where t1.payment_type='InternalPayment' and t2.trans_no in (\n",
    "{list_ft}\n",
    ")\n",
    "and t1.debit_account_no <> '{account}'\n",
    "union all\n",
    "select t2.trans_no, t1.credit_account as tai_khoan_doi_ung\n",
    ", ca.t_short_title as ten_doi_ung, 'Ngân hàng TMCP Phương Đông (OCB)' ngan_hang_doi_ung\n",
    "from ESBDATA.omni_transaction_hist t1 inner join ESBDATA.transactions t2 on t1.trans_id=t2.trans_id\n",
    "inner join ESBDATA.t24_account da on t1.debit_account_no = da.id\n",
    "inner join ESBDATA.t24_account ca on t1.credit_account = ca.id\n",
    "where t1.payment_type='InternalPayment' and t2.trans_no in (\n",
    "{list_ft}\n",
    ")\n",
    "and t1.credit_account <> '{account}'\n",
    "''')\n",
    "            start_index = end_index\n",
    "            end_index = end_index + sl_row\n",
    "            start +=1\n",
    "# sql.close()\n",
    "file.close()"
   ]
  },
  {
   "cell_type": "code",
   "execution_count": 33,
   "metadata": {},
   "outputs": [],
   "source": [
    "df_data = pd.read_excel('data_FT.xlsx', dtype=object)"
   ]
  },
  {
   "cell_type": "code",
   "execution_count": 37,
   "metadata": {},
   "outputs": [],
   "source": [
    "df_data.drop_duplicates('TRANS_NO', inplace=True)"
   ]
  },
  {
   "cell_type": "code",
   "execution_count": null,
   "metadata": {},
   "outputs": [],
   "source": [
    "df_data['TRANS_NO'].value_counts()"
   ]
  },
  {
   "cell_type": "code",
   "execution_count": 39,
   "metadata": {},
   "outputs": [
    {
     "data": {
      "text/html": [
       "<div>\n",
       "<style scoped>\n",
       "    .dataframe tbody tr th:only-of-type {\n",
       "        vertical-align: middle;\n",
       "    }\n",
       "\n",
       "    .dataframe tbody tr th {\n",
       "        vertical-align: top;\n",
       "    }\n",
       "\n",
       "    .dataframe thead th {\n",
       "        text-align: right;\n",
       "    }\n",
       "</style>\n",
       "<table border=\"1\" class=\"dataframe\">\n",
       "  <thead>\n",
       "    <tr style=\"text-align: right;\">\n",
       "      <th></th>\n",
       "      <th>TRANS_NO</th>\n",
       "      <th>TAI_KHOAN_DOI_UNG</th>\n",
       "      <th>TEN_DOI_UNG</th>\n",
       "      <th>NGAN_HANG_DOI_UNG</th>\n",
       "    </tr>\n",
       "  </thead>\n",
       "  <tbody>\n",
       "    <tr>\n",
       "      <th>829</th>\n",
       "      <td>FT211557PWKB</td>\n",
       "      <td>2500201013004</td>\n",
       "      <td>UB MAT TRAN TO QUOC TINH BAC GIANG</td>\n",
       "      <td>Ngân hàng Nông nghiệp và Phát triển Nông thôn ...</td>\n",
       "    </tr>\n",
       "  </tbody>\n",
       "</table>\n",
       "</div>"
      ],
      "text/plain": [
       "         TRANS_NO TAI_KHOAN_DOI_UNG                         TEN_DOI_UNG  \\\n",
       "829  FT211557PWKB     2500201013004  UB MAT TRAN TO QUOC TINH BAC GIANG   \n",
       "\n",
       "                                     NGAN_HANG_DOI_UNG  \n",
       "829  Ngân hàng Nông nghiệp và Phát triển Nông thôn ...  "
      ]
     },
     "execution_count": 39,
     "metadata": {},
     "output_type": "execute_result"
    }
   ],
   "source": [
    "df_data[df_data['TRANS_NO'] == 'FT211557PWKB']"
   ]
  },
  {
   "attachments": {},
   "cell_type": "markdown",
   "metadata": {},
   "source": [
    "# Work"
   ]
  },
  {
   "cell_type": "code",
   "execution_count": 170,
   "metadata": {},
   "outputs": [],
   "source": [
    "df = pd.read_excel('#390959\\TK ĐỐI UNG _924890.xlsx', dtype=object)\n",
    "df_data = pd.read_excel('data_FT.xlsx', dtype=object)\n",
    "\n",
    "\n",
    "# df['FT_NO'] = df['FT_NO'].str[:12]\n",
    "def processFT(x): #Take first 12 character if is FT\n",
    "\n",
    "    if x.startswith(\"FT\"):\n",
    "        x = x[:12]\n",
    "        return x\n",
    "    else:\n",
    "        return x\n",
    "df['Số giao dịch'] = df['Số giao dịch'].apply(processFT)\n",
    "\n",
    "\n",
    "df_merge = pd.merge(df, df_data, how='left', left_on='Số giao dịch', right_on='TRANS_NO')\n",
    "df_merge = df_merge.astype(object)\n",
    "\n",
    "df_old_years = pd.read_excel('data_old_years.xlsx', dtype=object)\n",
    "df_old_years['FT_NO'] = df_old_years['FT_NO'].str[:12]\n",
    "\n",
    "df_merge_1 = pd.merge(df_merge, df_old_years, how='left', left_on='Số giao dịch', right_on='FT_NO')\n",
    "# df_merge_1.to_excel('TK ĐỐI UNG _924890.xlsx', index=False)\n",
    "\n",
    "# df_merge_1 = df_merge_1[~df_merge_1['FT_NO'].isna()]\n",
    "# df_2021.reset_index(inplace=True)\n",
    "\n",
    "for index, row in df_merge_1.iterrows():\n",
    "    if row['FT_NO'] is not np.NaN:\n",
    "        if row['DEBIT_ACCOUNT'] == '0031100001520008':\n",
    "            row['DEBIT_ACCOUNT'] = ''\n",
    "        else:\n",
    "            row['CREDIT_ACCOUNT'] = ''\n",
    "\n",
    "df_merge_1['TAI_KHOAN_DOI_UNG'] = df_merge_1['TAI_KHOAN_DOI_UNG'].fillna('') + df_merge_1['DEBIT_ACCOUNT'].fillna('') + df_merge_1['CREDIT_ACCOUNT'].fillna('')\n",
    "\n",
    "col_remove = ['FT_NO','DEBIT_ACCOUNT', 'CREDIT_ACCOUNT']\n",
    "df_merge_1 = df_merge_1.drop(col_remove, axis=1)\n",
    "\n",
    "#Account\n",
    "df_account = pd.read_excel('2021_2022-2023_account_oldyear.xlsx', dtype=object)\n",
    "df_account.drop_duplicates('ID', inplace=True)\n",
    "\n",
    "# df_acc =pd.DataFrame(dict_temp.items(), columns=['Account', 'Name'])\n",
    "dict_account = {}\n",
    "for index, row in df_account.iterrows():\n",
    "    dict_account[row['ID']] = row['T_SHORT_TITLE']\n",
    "\n",
    "\n",
    "for index, row in df_merge_1.iterrows():\n",
    "\n",
    "    if row['TAI_KHOAN_DOI_UNG'] in dict_account:\n",
    "        row['TEN_DOI_UNG'] = dict_account[row['TAI_KHOAN_DOI_UNG']]\n",
    "\n",
    "\n",
    "df_merge_1.to_excel('TK ĐỐI UNG _924890.xlsx', index=False)\n",
    "# df_merge_1.head(10)\n"
   ]
  },
  {
   "cell_type": "code",
   "execution_count": null,
   "metadata": {},
   "outputs": [],
   "source": [
    "df_account = pd.read_excel('2021_2022-2023_account_oldyear.xlsx', dtype=object)\n",
    "\n",
    "df_account['ID'].value_counts()"
   ]
  },
  {
   "cell_type": "code",
   "execution_count": 156,
   "metadata": {},
   "outputs": [
    {
     "name": "stdout",
     "output_type": "stream",
     "text": [
      "{'0906751644': 'LE THI KHUNG', 'VND1384500000001': 'LIEN HANG SAI LAM CI-TAD DEN', '0036100048256008': 'NGUYEN QUOC HOA', '0144102066668888': 'NGO HUY PHUC', 'VND1252011000001': 'PTNAPAS-GD ATM, IBT', 'VND1754210010001': 'TREO SAI LECH CHIEU THU HUONG', '0001500000006005': 'CITAD-TGTT TAI SGD NHNN HANOI(VND', '0020100013113007': 'PHAN THI THU HONG', '0908594453': 'NGUYEN THI KIM HUONG', 'VND1384500020001': 'LIEN HANG SAI LAM CI-TAD DI', '0001500000289007': 'HOI SO - TGTT TAI BIDV B.THANH VND', '0037100017728002': 'TRIEU THI TY', '0065100005599007': 'CTY CO  PHAN IBS', '0365707183': 'PHAN HONG DU', '0100100029674002': 'TRAN THI THU HUONG', 'VND1384700020001': 'SAI LAM BIDV - VND', '0026100002657007': 'NGUYEN THI YEN NHI'}\n"
     ]
    }
   ],
   "source": [
    "\n",
    "#Account\n",
    "df_account = pd.read_excel('2021_2022-2023_account_oldyear.xlsx', dtype=object)\n",
    "\n",
    "# df_acc =pd.DataFrame(dict_temp.items(), columns=['Account', 'Name'])\n",
    "dict_account = {}\n",
    "for index, row in df_account.iterrows():\n",
    "    dict_account[row['ID']] = row['T_SHORT_TITLE']\n",
    "print(dict_account)"
   ]
  },
  {
   "cell_type": "code",
   "execution_count": 93,
   "metadata": {},
   "outputs": [],
   "source": [
    "df_2021['TAI_KHOAN_DOI_UNG'] = df_2021['DEBIT_ACCOUNT'] + df_2021['CREDIT_ACCOUNT']"
   ]
  },
  {
   "cell_type": "code",
   "execution_count": 95,
   "metadata": {},
   "outputs": [
    {
     "data": {
      "text/plain": [
       "array(['0001500000006005', 'VND1754210010001', '0001500000289007',\n",
       "       'PL52193', 'PL52002', 'VND1384500000001', '0100100029674002',\n",
       "       'PL52022', '0026100002657007', 'VND1252011000001',\n",
       "       'VND1384700020001'], dtype=object)"
      ]
     },
     "execution_count": 95,
     "metadata": {},
     "output_type": "execute_result"
    }
   ],
   "source": [
    "df_2021['TAI_KHOAN_DOI_UNG'].unique()"
   ]
  },
  {
   "cell_type": "code",
   "execution_count": 96,
   "metadata": {},
   "outputs": [
    {
     "data": {
      "text/plain": [
       "Index(['STT/ No', 'STMT No', 'Ngay/ Date', 'So Tai khoan/Acc Number',\n",
       "       'Ten Tai khoan/Acc Name', 'So CIF/ CIF Number', 'Loai tien/Currency',\n",
       "       'FT', 'Noi Dung/Content', 'Ps giam nguyen te(No)/ Debit',\n",
       "       'Ps giam quy doi(No)/ Debit', 'Ps tang nguyen te(Co)/ Credit',\n",
       "       'Ps tang quy doi(Co)/ Credit', 'T_OPEN_CLEARED_BAL', 'TRANS_NO',\n",
       "       'TAI_KHOAN_DOI_UNG', 'TEN_DOI_UNG', 'NGAN_HANG_DOI_UNG', 'FT_NO',\n",
       "       'DEBIT_ACCOUNT', 'CREDIT_ACCOUNT', 'T_TRANSACTION_TYPE'],\n",
       "      dtype='object')"
      ]
     },
     "execution_count": 96,
     "metadata": {},
     "output_type": "execute_result"
    }
   ],
   "source": [
    "df_2022_1 = pd.read_excel('SAOKE_20220101_20220429.xlsx', dtype=object)\n",
    "df_2022_2 = pd.read_excel('SAOKE_20220501_20230328.xlsx', dtype=object)\n",
    "df_2022 = pd.concat([df_2022_1,df_2022_2])\n",
    "df_2022.columns"
   ]
  },
  {
   "cell_type": "code",
   "execution_count": 97,
   "metadata": {},
   "outputs": [],
   "source": [
    "df_2022 = df_2022[~df_2022['FT_NO'].isna()]\n",
    "df_2022.reset_index(inplace=True)"
   ]
  },
  {
   "cell_type": "code",
   "execution_count": null,
   "metadata": {},
   "outputs": [],
   "source": [
    "# df_2022.reset_index(inplace=True)\n",
    "for index, row in df_2022.iterrows():\n",
    "    if row['DEBIT_ACCOUNT'] == row['So Tai khoan/Acc Number']:\n",
    "        df_2022.loc[index,'DEBIT_ACCOUNT'] = ''\n",
    "    else:\n",
    "        df_2022.loc[index,'CREDIT_ACCOUNT'] = ''"
   ]
  },
  {
   "cell_type": "code",
   "execution_count": 99,
   "metadata": {},
   "outputs": [],
   "source": [
    "df_2022['TAI_KHOAN_DOI_UNG'] = df_2022['DEBIT_ACCOUNT'] + df_2022['CREDIT_ACCOUNT']"
   ]
  },
  {
   "cell_type": "code",
   "execution_count": null,
   "metadata": {},
   "outputs": [],
   "source": [
    "df_2022['TAI_KHOAN_DOI_UNG'].unique()"
   ]
  },
  {
   "cell_type": "code",
   "execution_count": 42,
   "metadata": {},
   "outputs": [],
   "source": [
    "import pandas as pd\n",
    "import xlwings as xw\n",
    "\n",
    "# create a sample DataFrame\n",
    "data = {'Name': ['Alice', 'Bob', 'Charlie', 'David'],\n",
    "        'Age': [25, 30, 35, 40],\n",
    "        'Salary': [50000, 60000, 70000, 1.001E+14]}\n",
    "df = pd.DataFrame(data)\n",
    "\n",
    "# create an Excel workbook\n",
    "wb = xw.Book()\n",
    "\n",
    "# select the first sheet\n",
    "sheet = wb.sheets[0]\n",
    "\n",
    "# write the DataFrame to the worksheet\n",
    "sheet.range('A1').options(index=False, header=True).value = df\n",
    "\n",
    "# set the number format for the Salary column\n",
    "salary_col = sheet.range('C2:C5')\n",
    "salary_col.number_format = '#,##0.00'\n",
    "\n",
    "# save the workbook\n",
    "wb.save('data.xlsx')\n",
    "\n",
    "# close the workbook\n",
    "wb.close()\n"
   ]
  },
  {
   "cell_type": "code",
   "execution_count": 9,
   "metadata": {},
   "outputs": [
    {
     "name": "stdout",
     "output_type": "stream",
     "text": [
      "  key  value1   id  value2\n",
      "0   A       1    A     5.0\n",
      "1   B       2    B     6.0\n",
      "2   C       3  NaN     NaN\n",
      "3   D       4  NaN     NaN\n"
     ]
    }
   ],
   "source": [
    "import pandas as pd\n",
    "\n",
    "# create the first table\n",
    "df1 = pd.DataFrame({'key': ['A', 'B', 'C', 'D'], 'value1': [1, 2, 3, 4]})\n",
    "\n",
    "# create the second table\n",
    "df2 = pd.DataFrame({'id': ['A', 'B', 'E', 'F'], 'value2': [5, 6, 7, 8]})\n",
    "\n",
    "# merge the two tables based on the 'key' column\n",
    "merged_df = pd.merge(df1, df2, how='left' , left_on='key', right_on='id')\n",
    "\n",
    "print(merged_df)\n"
   ]
  },
  {
   "cell_type": "code",
   "execution_count": 11,
   "metadata": {},
   "outputs": [],
   "source": [
    "df1 = pd.read_excel(r\"D:\\python\\bank-Statement\\check-Statements-File\\statement_Special\\yc384052_saoke_dsCBNV.xlsx\")\n",
    "df2 = pd.read_excel(r\"D:\\python\\bank-Statement\\check-Statements-File\\statement_Special\\yc384052_saoke_dsKH.xlsx\")\n",
    "\n",
    "df_data = pd.read_excel(r\"D:\\python\\tools\\file\\master.xlsx\")"
   ]
  },
  {
   "cell_type": "code",
   "execution_count": 14,
   "metadata": {},
   "outputs": [],
   "source": [
    "df_data= df_data.drop_duplicates('TRANS_NO')\n",
    "df1= df1.drop_duplicates('ID')"
   ]
  },
  {
   "cell_type": "code",
   "execution_count": 13,
   "metadata": {},
   "outputs": [
    {
     "data": {
      "text/plain": [
       "FT22006G2NXC    1\n",
       "FT223143CXDJ    1\n",
       "FT2225598GH2    1\n",
       "FT22273RJVLQ    1\n",
       "FT222857TNGH    1\n",
       "               ..\n",
       "FT23017Y9GDX    1\n",
       "FT22357ZK2BX    1\n",
       "FT230279J28M    1\n",
       "FT23027KXZ15    1\n",
       "FT222381DM3Y    1\n",
       "Name: TRANS_NO, Length: 9918, dtype: int64"
      ]
     },
     "execution_count": 13,
     "metadata": {},
     "output_type": "execute_result"
    }
   ],
   "source": [
    "df_data['TRANS_NO'].value_counts()"
   ]
  },
  {
   "cell_type": "code",
   "execution_count": 16,
   "metadata": {},
   "outputs": [
    {
     "data": {
      "text/plain": [
       "FT220043WQJC;1    1\n",
       "FT221822KTX7;1    1\n",
       "FT222909VVJD;1    1\n",
       "FT22136FGFNY;1    1\n",
       "FT230652KYM8;1    1\n",
       "                 ..\n",
       "FT22343Y8VT9;1    1\n",
       "FT22248GNXR4;1    1\n",
       "FT22153N8B2W;1    1\n",
       "FT23067W70S9;1    1\n",
       "TT22197CX03P;1    1\n",
       "Name: ID, Length: 8853, dtype: int64"
      ]
     },
     "execution_count": 16,
     "metadata": {},
     "output_type": "execute_result"
    }
   ],
   "source": [
    "df1['ID'].value_counts()"
   ]
  },
  {
   "cell_type": "code",
   "execution_count": 77,
   "metadata": {},
   "outputs": [
    {
     "data": {
      "text/html": [
       "<div>\n",
       "<style scoped>\n",
       "    .dataframe tbody tr th:only-of-type {\n",
       "        vertical-align: middle;\n",
       "    }\n",
       "\n",
       "    .dataframe tbody tr th {\n",
       "        vertical-align: top;\n",
       "    }\n",
       "\n",
       "    .dataframe thead th {\n",
       "        text-align: right;\n",
       "    }\n",
       "</style>\n",
       "<table border=\"1\" class=\"dataframe\">\n",
       "  <thead>\n",
       "    <tr style=\"text-align: right;\">\n",
       "      <th></th>\n",
       "      <th>TRANS_NO</th>\n",
       "      <th>TAI_KHOAN_DOI_UNG</th>\n",
       "      <th>TEN_DOI_UNG</th>\n",
       "      <th>NGAN_HANG_DOI_UNG</th>\n",
       "    </tr>\n",
       "  </thead>\n",
       "  <tbody>\n",
       "    <tr>\n",
       "      <th>4701</th>\n",
       "      <td>FT2230195JB3</td>\n",
       "      <td>8017041157136</td>\n",
       "      <td>PHAN CHU MINH CHINH</td>\n",
       "      <td>Ngân hàng TMCP Bản Việt (Vietcapital Bank)</td>\n",
       "    </tr>\n",
       "  </tbody>\n",
       "</table>\n",
       "</div>"
      ],
      "text/plain": [
       "          TRANS_NO TAI_KHOAN_DOI_UNG          TEN_DOI_UNG  \\\n",
       "4701  FT2230195JB3     8017041157136  PHAN CHU MINH CHINH   \n",
       "\n",
       "                               NGAN_HANG_DOI_UNG  \n",
       "4701  Ngân hàng TMCP Bản Việt (Vietcapital Bank)  "
      ]
     },
     "execution_count": 77,
     "metadata": {},
     "output_type": "execute_result"
    }
   ],
   "source": [
    "df_data[df_data['TRANS_NO']=='FT2230195JB3']"
   ]
  },
  {
   "cell_type": "code",
   "execution_count": 48,
   "metadata": {},
   "outputs": [
    {
     "name": "stdout",
     "output_type": "stream",
     "text": [
      "617\n"
     ]
    }
   ],
   "source": [
    "print(len(df_data['TRANS_NO'].unique()))"
   ]
  },
  {
   "cell_type": "code",
   "execution_count": 39,
   "metadata": {},
   "outputs": [],
   "source": [
    "df = pd.concat([df1, df_2])"
   ]
  },
  {
   "cell_type": "code",
   "execution_count": 43,
   "metadata": {},
   "outputs": [],
   "source": [
    "df = df.drop_duplicates('ID')"
   ]
  },
  {
   "cell_type": "code",
   "execution_count": 44,
   "metadata": {},
   "outputs": [
    {
     "data": {
      "text/plain": [
       "FT220043WQJC;1    1\n",
       "FT22042W75NW;1    1\n",
       "FT22043BMLXV;1    1\n",
       "FT2204384J92;1    1\n",
       "FT22043GS6T3;1    1\n",
       "                 ..\n",
       "FT22217NNPV2;1    1\n",
       "FT23017D1J9P;1    1\n",
       "FT22358YS1BT;1    1\n",
       "FT222633Z67L;1    1\n",
       "TT222298YNB9;1    1\n",
       "Name: ID, Length: 14665, dtype: int64"
      ]
     },
     "execution_count": 44,
     "metadata": {},
     "output_type": "execute_result"
    }
   ],
   "source": [
    "df['ID'].value_counts()"
   ]
  },
  {
   "cell_type": "code",
   "execution_count": 42,
   "metadata": {},
   "outputs": [
    {
     "name": "stdout",
     "output_type": "stream",
     "text": [
      "14665\n"
     ]
    }
   ],
   "source": []
  },
  {
   "cell_type": "code",
   "execution_count": 41,
   "metadata": {},
   "outputs": [],
   "source": [
    "df1 = pd.read_excel('yc383517_saoke_dsNV_2019.xlsx')\n",
    "df2 = pd.read_excel('yc383517_sk_dsKH_2019.xlsx')\n",
    "\n",
    "df = pd.concat([df1, df2])"
   ]
  },
  {
   "cell_type": "code",
   "execution_count": 42,
   "metadata": {},
   "outputs": [
    {
     "data": {
      "text/plain": [
       "FT1915162TNT;1    1\n",
       "TT19340LN4YB;1    1\n",
       "TT19183ZB6SW;1    1\n",
       "TT190289V5B4;1    1\n",
       "TT19007ZK50C;1    1\n",
       "                 ..\n",
       "FT19304XVMFS;1    1\n",
       "FT1911489P61;1    1\n",
       "FT19357BYRV9;1    1\n",
       "FT19277S5XBB;1    1\n",
       "TT19353VW5PY;1    1\n",
       "Name: ID, Length: 1416, dtype: int64"
      ]
     },
     "execution_count": 42,
     "metadata": {},
     "output_type": "execute_result"
    }
   ],
   "source": [
    "df['ID'].value_counts()"
   ]
  },
  {
   "cell_type": "markdown",
   "metadata": {},
   "source": [
    "# SQL"
   ]
  },
  {
   "attachments": {},
   "cell_type": "markdown",
   "metadata": {},
   "source": [
    "# Open file before merge file"
   ]
  },
  {
   "cell_type": "code",
   "execution_count": 44,
   "metadata": {},
   "outputs": [],
   "source": [
    "df1 = pd.read_excel('yc383517_saoke_dsNV_2019.xlsx')\n",
    "df2 = pd.read_excel('yc383517_sk_dsKH_2019.xlsx')\n",
    "\n",
    "df = pd.concat([df1, df2])\n",
    "\n",
    "df['ID'] = df['ID'].str[:12]\n",
    "df = df.drop_duplicates('ID')\n",
    "df_data = pd.read_excel('data_2019.xlsx')\n",
    "df_data = df_data.drop_duplicates('TRANS_NO')"
   ]
  },
  {
   "attachments": {},
   "cell_type": "markdown",
   "metadata": {},
   "source": [
    "# Merge file"
   ]
  },
  {
   "cell_type": "code",
   "execution_count": 45,
   "metadata": {},
   "outputs": [],
   "source": [
    "df['ID'] = df['ID'].str[:12]\n",
    "# df2['ID'] = df2['ID'].str[:12]\n",
    "result = pd.merge(df,df_data, how=\"left\", left_on='ID', right_on='TRANS_NO')\n",
    "# result = pd.merge(result,df_extra, how=\"left\", left_on='ID', right_on='FT_NO')\n",
    "\n",
    "\n",
    "\n",
    "result.to_excel((r\"2019.xlsx\"), index=False)"
   ]
  },
  {
   "cell_type": "code",
   "execution_count": 46,
   "metadata": {},
   "outputs": [
    {
     "data": {
      "text/plain": [
       "False"
      ]
     },
     "execution_count": 46,
     "metadata": {},
     "output_type": "execute_result"
    }
   ],
   "source": [
    "result['TRANS_NO'] is np.NaN"
   ]
  },
  {
   "cell_type": "code",
   "execution_count": 25,
   "metadata": {},
   "outputs": [],
   "source": [
    "df1 = pd.read_excel('df1.xlsx')\n",
    "df2 = pd.read_excel('df2.xlsx')\n",
    "df = pd.concat([df1,df2])"
   ]
  },
  {
   "cell_type": "code",
   "execution_count": 22,
   "metadata": {},
   "outputs": [],
   "source": [
    "df1['DATA_DATE'] = df1['DATA_DATE'].astype(str)\n",
    "df2['DATA_DATE'] = df2['DATA_DATE'].astype(str)"
   ]
  },
  {
   "cell_type": "code",
   "execution_count": 38,
   "metadata": {},
   "outputs": [
    {
     "data": {
      "text/plain": [
       "2022    4879\n",
       "2023     942\n",
       "Name: DATA_DATE, dtype: int64"
      ]
     },
     "execution_count": 38,
     "metadata": {},
     "output_type": "execute_result"
    }
   ],
   "source": [
    "df2['DATA_DATE'].str[:4].value_counts()"
   ]
  },
  {
   "cell_type": "code",
   "execution_count": 61,
   "metadata": {},
   "outputs": [],
   "source": [
    "df_master = pd.read_excel('df1.xlsx')"
   ]
  },
  {
   "cell_type": "code",
   "execution_count": 26,
   "metadata": {},
   "outputs": [],
   "source": [
    "filt_TK_Null = df['TRANS_NO'].isna()\n",
    "\n",
    "df = df.loc[filt_TK_Null]\n",
    "\n",
    "# df_master.to_excel((r\"D:\\python\\bank-Statement\\check-Statements-File\\oldYear\\master.xlsx\"), index=False)"
   ]
  },
  {
   "cell_type": "code",
   "execution_count": 28,
   "metadata": {},
   "outputs": [
    {
     "data": {
      "text/html": [
       "<div>\n",
       "<style scoped>\n",
       "    .dataframe tbody tr th:only-of-type {\n",
       "        vertical-align: middle;\n",
       "    }\n",
       "\n",
       "    .dataframe tbody tr th {\n",
       "        vertical-align: top;\n",
       "    }\n",
       "\n",
       "    .dataframe thead th {\n",
       "        text-align: right;\n",
       "    }\n",
       "</style>\n",
       "<table border=\"1\" class=\"dataframe\">\n",
       "  <thead>\n",
       "    <tr style=\"text-align: right;\">\n",
       "      <th></th>\n",
       "      <th></th>\n",
       "      <th>DATA_DATE</th>\n",
       "      <th>MACN</th>\n",
       "      <th>TENCN</th>\n",
       "      <th>ID</th>\n",
       "      <th>TKNO</th>\n",
       "      <th>CIF_TKNO</th>\n",
       "      <th>TEN_TKNO</th>\n",
       "      <th>NGOAITE_TKNO</th>\n",
       "      <th>SOTIEN_NT_TKNO</th>\n",
       "      <th>...</th>\n",
       "      <th>NGOAITE_TKCO</th>\n",
       "      <th>SOTIEN_NT_TKCO</th>\n",
       "      <th>SOTIEN_QD_TKCO</th>\n",
       "      <th>NOIDUNG</th>\n",
       "      <th>INPUTTER</th>\n",
       "      <th>AUTHORISER</th>\n",
       "      <th>TRANS_NO</th>\n",
       "      <th>TAI_KHOAN_DOI_UNG</th>\n",
       "      <th>TEN_DOI_UNG</th>\n",
       "      <th>NGAN_HANG_DOI_UNG</th>\n",
       "    </tr>\n",
       "  </thead>\n",
       "  <tbody>\n",
       "    <tr>\n",
       "      <th>1</th>\n",
       "      <td>2.0</td>\n",
       "      <td>20220104</td>\n",
       "      <td>VN0010024</td>\n",
       "      <td>PGD NGUYEN TRI PHUONG</td>\n",
       "      <td>FT220048H6Y0</td>\n",
       "      <td>0100100004845007</td>\n",
       "      <td>814344.0</td>\n",
       "      <td>HOANG THI NGOC HUYEN</td>\n",
       "      <td>VND</td>\n",
       "      <td>10000000</td>\n",
       "      <td>...</td>\n",
       "      <td>VND</td>\n",
       "      <td>10000000</td>\n",
       "      <td>10000000</td>\n",
       "      <td>HUYEN chuyen tien cho Cuc</td>\n",
       "      <td>NaN</td>\n",
       "      <td>NaN</td>\n",
       "      <td>NaN</td>\n",
       "      <td>NaN</td>\n",
       "      <td>NaN</td>\n",
       "      <td>NaN</td>\n",
       "    </tr>\n",
       "    <tr>\n",
       "      <th>4</th>\n",
       "      <td>5.0</td>\n",
       "      <td>20220104</td>\n",
       "      <td>VN0010001</td>\n",
       "      <td>HOI SO</td>\n",
       "      <td>FT21365KYB7T</td>\n",
       "      <td>0001100001432007</td>\n",
       "      <td>814344.0</td>\n",
       "      <td>HOANG THI NGOC HUYEN</td>\n",
       "      <td>VND</td>\n",
       "      <td>3868</td>\n",
       "      <td>...</td>\n",
       "      <td>VND</td>\n",
       "      <td>3868</td>\n",
       "      <td>3868</td>\n",
       "      <td>Overdraft Repayment</td>\n",
       "      <td>NaN</td>\n",
       "      <td>NaN</td>\n",
       "      <td>NaN</td>\n",
       "      <td>NaN</td>\n",
       "      <td>NaN</td>\n",
       "      <td>NaN</td>\n",
       "    </tr>\n",
       "    <tr>\n",
       "      <th>7</th>\n",
       "      <td>8.0</td>\n",
       "      <td>20220125</td>\n",
       "      <td>VN0010001</td>\n",
       "      <td>HOI SO</td>\n",
       "      <td>FT22025369LH</td>\n",
       "      <td>VND1755300100001</td>\n",
       "      <td>NaN</td>\n",
       "      <td>CAC KHOAN PT CBNV-LUONG TAP TRUNG</td>\n",
       "      <td>VND</td>\n",
       "      <td>500000</td>\n",
       "      <td>...</td>\n",
       "      <td>VND</td>\n",
       "      <td>500000</td>\n",
       "      <td>500000</td>\n",
       "      <td>CONG DOAN OCB TANG QUA NHAN DIP TET::NHAM DAN ...</td>\n",
       "      <td>NaN</td>\n",
       "      <td>NaN</td>\n",
       "      <td>NaN</td>\n",
       "      <td>NaN</td>\n",
       "      <td>NaN</td>\n",
       "      <td>NaN</td>\n",
       "    </tr>\n",
       "    <tr>\n",
       "      <th>10</th>\n",
       "      <td>11.0</td>\n",
       "      <td>20220106</td>\n",
       "      <td>VN0010021</td>\n",
       "      <td>PGD PHAM VAN HAI</td>\n",
       "      <td>FT22006N2Q32</td>\n",
       "      <td>0024109959999999</td>\n",
       "      <td>2218992.0</td>\n",
       "      <td>TONG TRUC THANH</td>\n",
       "      <td>VND</td>\n",
       "      <td>50000</td>\n",
       "      <td>...</td>\n",
       "      <td>VND</td>\n",
       "      <td>50000</td>\n",
       "      <td>50000</td>\n",
       "      <td>NAP TIEN DIEN THOAI 0904421782 – ME::NH GIA 50000</td>\n",
       "      <td>NaN</td>\n",
       "      <td>NaN</td>\n",
       "      <td>NaN</td>\n",
       "      <td>NaN</td>\n",
       "      <td>NaN</td>\n",
       "      <td>NaN</td>\n",
       "    </tr>\n",
       "    <tr>\n",
       "      <th>12</th>\n",
       "      <td>13.0</td>\n",
       "      <td>20220108</td>\n",
       "      <td>VN0010024</td>\n",
       "      <td>PGD NGUYEN TRI PHUONG</td>\n",
       "      <td>FT220084Z177</td>\n",
       "      <td>0024101123456787</td>\n",
       "      <td>1860246.0</td>\n",
       "      <td>NGUYEN TAN DAT</td>\n",
       "      <td>VND</td>\n",
       "      <td>559634</td>\n",
       "      <td>...</td>\n",
       "      <td>VND</td>\n",
       "      <td>559634</td>\n",
       "      <td>559634</td>\n",
       "      <td>Thanh toan hoa don Ma KH PE07000107::262</td>\n",
       "      <td>NaN</td>\n",
       "      <td>NaN</td>\n",
       "      <td>NaN</td>\n",
       "      <td>NaN</td>\n",
       "      <td>NaN</td>\n",
       "      <td>NaN</td>\n",
       "    </tr>\n",
       "    <tr>\n",
       "      <th>...</th>\n",
       "      <td>...</td>\n",
       "      <td>...</td>\n",
       "      <td>...</td>\n",
       "      <td>...</td>\n",
       "      <td>...</td>\n",
       "      <td>...</td>\n",
       "      <td>...</td>\n",
       "      <td>...</td>\n",
       "      <td>...</td>\n",
       "      <td>...</td>\n",
       "      <td>...</td>\n",
       "      <td>...</td>\n",
       "      <td>...</td>\n",
       "      <td>...</td>\n",
       "      <td>...</td>\n",
       "      <td>...</td>\n",
       "      <td>...</td>\n",
       "      <td>...</td>\n",
       "      <td>...</td>\n",
       "      <td>...</td>\n",
       "      <td>...</td>\n",
       "    </tr>\n",
       "    <tr>\n",
       "      <th>5816</th>\n",
       "      <td>NaN</td>\n",
       "      <td>20221001</td>\n",
       "      <td>VN0010024</td>\n",
       "      <td>PGD NGUYEN TRI PHUONG</td>\n",
       "      <td>TT22274Y6CY7</td>\n",
       "      <td>0903346236</td>\n",
       "      <td>7653906.0</td>\n",
       "      <td>NGUYEN HUYNH THAI HUY</td>\n",
       "      <td>VND</td>\n",
       "      <td>NaN</td>\n",
       "      <td>...</td>\n",
       "      <td>VND</td>\n",
       "      <td>0</td>\n",
       "      <td>200000000</td>\n",
       "      <td>NGUYEN HUYNH THAI HUY CMND 0720790!!04994 NGAY...</td>\n",
       "      <td>T0240014</td>\n",
       "      <td>T240507</td>\n",
       "      <td>NaN</td>\n",
       "      <td>NaN</td>\n",
       "      <td>NaN</td>\n",
       "      <td>NaN</td>\n",
       "    </tr>\n",
       "    <tr>\n",
       "      <th>5817</th>\n",
       "      <td>NaN</td>\n",
       "      <td>20230216</td>\n",
       "      <td>VN0010024</td>\n",
       "      <td>PGD NGUYEN TRI PHUONG</td>\n",
       "      <td>TT230473KVNG</td>\n",
       "      <td>0024110003263003</td>\n",
       "      <td>813054.0</td>\n",
       "      <td>NGUYEN THI THU NGUYET</td>\n",
       "      <td>VND</td>\n",
       "      <td>NaN</td>\n",
       "      <td>...</td>\n",
       "      <td>VND</td>\n",
       "      <td>0</td>\n",
       "      <td>400000000</td>\n",
       "      <td>NGUYEN THI THU NGUYET-079183024536!!-15/08/202...</td>\n",
       "      <td>T0240014</td>\n",
       "      <td>T240509</td>\n",
       "      <td>NaN</td>\n",
       "      <td>NaN</td>\n",
       "      <td>NaN</td>\n",
       "      <td>NaN</td>\n",
       "    </tr>\n",
       "    <tr>\n",
       "      <th>5818</th>\n",
       "      <td>NaN</td>\n",
       "      <td>20220511</td>\n",
       "      <td>VN0010024</td>\n",
       "      <td>PGD NGUYEN TRI PHUONG</td>\n",
       "      <td>TT221313QJMP</td>\n",
       "      <td>0024100000922008</td>\n",
       "      <td>813054.0</td>\n",
       "      <td>NGUYEN THI THU NGUYET</td>\n",
       "      <td>VND</td>\n",
       "      <td>NaN</td>\n",
       "      <td>...</td>\n",
       "      <td>VND</td>\n",
       "      <td>0</td>\n",
       "      <td>30000000</td>\n",
       "      <td>NGUYEN THI THU NGUYET CMND 0791830!!24536 NGAY...</td>\n",
       "      <td>T0240014</td>\n",
       "      <td>T240343</td>\n",
       "      <td>NaN</td>\n",
       "      <td>NaN</td>\n",
       "      <td>NaN</td>\n",
       "      <td>NaN</td>\n",
       "    </tr>\n",
       "    <tr>\n",
       "      <th>5819</th>\n",
       "      <td>NaN</td>\n",
       "      <td>20220720</td>\n",
       "      <td>VN0013002</td>\n",
       "      <td>PGD BINH PHU</td>\n",
       "      <td>TT222019J0PD</td>\n",
       "      <td>0024107938389632</td>\n",
       "      <td>2329389.0</td>\n",
       "      <td>CHUNG CHI MINH</td>\n",
       "      <td>VND</td>\n",
       "      <td>NaN</td>\n",
       "      <td>...</td>\n",
       "      <td>VND</td>\n",
       "      <td>0</td>\n",
       "      <td>10000000</td>\n",
       "      <td>CHUNG CHI MINH CMND 079080009174 N!!GAYCAP 02/...</td>\n",
       "      <td>T3020536</td>\n",
       "      <td>T3020529</td>\n",
       "      <td>NaN</td>\n",
       "      <td>NaN</td>\n",
       "      <td>NaN</td>\n",
       "      <td>NaN</td>\n",
       "    </tr>\n",
       "    <tr>\n",
       "      <th>5820</th>\n",
       "      <td>NaN</td>\n",
       "      <td>20220817</td>\n",
       "      <td>VN0010024</td>\n",
       "      <td>PGD NGUYEN TRI PHUONG</td>\n",
       "      <td>TT222298YNB9</td>\n",
       "      <td>0024100012792005</td>\n",
       "      <td>7510810.0</td>\n",
       "      <td>DAO THI PHAN</td>\n",
       "      <td>VND</td>\n",
       "      <td>NaN</td>\n",
       "      <td>...</td>\n",
       "      <td>VND</td>\n",
       "      <td>0</td>\n",
       "      <td>776325</td>\n",
       "      <td>OCB NTP THU PHI OUR KH DAO THI PHA!!N ND: CHUY...</td>\n",
       "      <td>T0240014</td>\n",
       "      <td>T240343</td>\n",
       "      <td>NaN</td>\n",
       "      <td>NaN</td>\n",
       "      <td>NaN</td>\n",
       "      <td>NaN</td>\n",
       "    </tr>\n",
       "  </tbody>\n",
       "</table>\n",
       "<p>4742 rows × 24 columns</p>\n",
       "</div>"
      ],
      "text/plain": [
       "            DATA_DATE       MACN                  TENCN            ID  \\\n",
       "1      2.0   20220104  VN0010024  PGD NGUYEN TRI PHUONG  FT220048H6Y0   \n",
       "4      5.0   20220104  VN0010001                 HOI SO  FT21365KYB7T   \n",
       "7      8.0   20220125  VN0010001                 HOI SO  FT22025369LH   \n",
       "10    11.0   20220106  VN0010021       PGD PHAM VAN HAI  FT22006N2Q32   \n",
       "12    13.0   20220108  VN0010024  PGD NGUYEN TRI PHUONG  FT220084Z177   \n",
       "...    ...        ...        ...                    ...           ...   \n",
       "5816   NaN   20221001  VN0010024  PGD NGUYEN TRI PHUONG  TT22274Y6CY7   \n",
       "5817   NaN   20230216  VN0010024  PGD NGUYEN TRI PHUONG  TT230473KVNG   \n",
       "5818   NaN   20220511  VN0010024  PGD NGUYEN TRI PHUONG  TT221313QJMP   \n",
       "5819   NaN   20220720  VN0013002           PGD BINH PHU  TT222019J0PD   \n",
       "5820   NaN   20220817  VN0010024  PGD NGUYEN TRI PHUONG  TT222298YNB9   \n",
       "\n",
       "                  TKNO   CIF_TKNO                           TEN_TKNO  \\\n",
       "1     0100100004845007   814344.0               HOANG THI NGOC HUYEN   \n",
       "4     0001100001432007   814344.0               HOANG THI NGOC HUYEN   \n",
       "7     VND1755300100001        NaN  CAC KHOAN PT CBNV-LUONG TAP TRUNG   \n",
       "10    0024109959999999  2218992.0                    TONG TRUC THANH   \n",
       "12    0024101123456787  1860246.0                     NGUYEN TAN DAT   \n",
       "...                ...        ...                                ...   \n",
       "5816        0903346236  7653906.0              NGUYEN HUYNH THAI HUY   \n",
       "5817  0024110003263003   813054.0              NGUYEN THI THU NGUYET   \n",
       "5818  0024100000922008   813054.0              NGUYEN THI THU NGUYET   \n",
       "5819  0024107938389632  2329389.0                     CHUNG CHI MINH   \n",
       "5820  0024100012792005  7510810.0                       DAO THI PHAN   \n",
       "\n",
       "     NGOAITE_TKNO SOTIEN_NT_TKNO  ... NGOAITE_TKCO SOTIEN_NT_TKCO  \\\n",
       "1             VND       10000000  ...          VND       10000000   \n",
       "4             VND           3868  ...          VND           3868   \n",
       "7             VND         500000  ...          VND         500000   \n",
       "10            VND          50000  ...          VND          50000   \n",
       "12            VND         559634  ...          VND         559634   \n",
       "...           ...            ...  ...          ...            ...   \n",
       "5816          VND            NaN  ...          VND              0   \n",
       "5817          VND            NaN  ...          VND              0   \n",
       "5818          VND            NaN  ...          VND              0   \n",
       "5819          VND            NaN  ...          VND              0   \n",
       "5820          VND            NaN  ...          VND              0   \n",
       "\n",
       "      SOTIEN_QD_TKCO                                            NOIDUNG  \\\n",
       "1           10000000                          HUYEN chuyen tien cho Cuc   \n",
       "4               3868                                Overdraft Repayment   \n",
       "7             500000  CONG DOAN OCB TANG QUA NHAN DIP TET::NHAM DAN ...   \n",
       "10             50000  NAP TIEN DIEN THOAI 0904421782 – ME::NH GIA 50000   \n",
       "12            559634           Thanh toan hoa don Ma KH PE07000107::262   \n",
       "...              ...                                                ...   \n",
       "5816       200000000  NGUYEN HUYNH THAI HUY CMND 0720790!!04994 NGAY...   \n",
       "5817       400000000  NGUYEN THI THU NGUYET-079183024536!!-15/08/202...   \n",
       "5818        30000000  NGUYEN THI THU NGUYET CMND 0791830!!24536 NGAY...   \n",
       "5819        10000000  CHUNG CHI MINH CMND 079080009174 N!!GAYCAP 02/...   \n",
       "5820          776325  OCB NTP THU PHI OUR KH DAO THI PHA!!N ND: CHUY...   \n",
       "\n",
       "      INPUTTER  AUTHORISER  TRANS_NO TAI_KHOAN_DOI_UNG TEN_DOI_UNG  \\\n",
       "1          NaN         NaN       NaN               NaN         NaN   \n",
       "4          NaN         NaN       NaN               NaN         NaN   \n",
       "7          NaN         NaN       NaN               NaN         NaN   \n",
       "10         NaN         NaN       NaN               NaN         NaN   \n",
       "12         NaN         NaN       NaN               NaN         NaN   \n",
       "...        ...         ...       ...               ...         ...   \n",
       "5816  T0240014     T240507       NaN               NaN         NaN   \n",
       "5817  T0240014     T240509       NaN               NaN         NaN   \n",
       "5818  T0240014     T240343       NaN               NaN         NaN   \n",
       "5819  T3020536    T3020529       NaN               NaN         NaN   \n",
       "5820  T0240014     T240343       NaN               NaN         NaN   \n",
       "\n",
       "     NGAN_HANG_DOI_UNG  \n",
       "1                  NaN  \n",
       "4                  NaN  \n",
       "7                  NaN  \n",
       "10                 NaN  \n",
       "12                 NaN  \n",
       "...                ...  \n",
       "5816               NaN  \n",
       "5817               NaN  \n",
       "5818               NaN  \n",
       "5819               NaN  \n",
       "5820               NaN  \n",
       "\n",
       "[4742 rows x 24 columns]"
      ]
     },
     "execution_count": 28,
     "metadata": {},
     "output_type": "execute_result"
    }
   ],
   "source": [
    "df"
   ]
  },
  {
   "cell_type": "code",
   "execution_count": null,
   "metadata": {},
   "outputs": [],
   "source": [
    "df.to_excel('df.xlsx', index=False)"
   ]
  },
  {
   "cell_type": "code",
   "execution_count": 66,
   "metadata": {},
   "outputs": [
    {
     "data": {
      "text/plain": [
       "0       True\n",
       "1       True\n",
       "4       True\n",
       "5       True\n",
       "14      True\n",
       "        ... \n",
       "9943     NaN\n",
       "9944     NaN\n",
       "9945     NaN\n",
       "9946     NaN\n",
       "9947     NaN\n",
       "Name: ID, Length: 5326, dtype: object"
      ]
     },
     "execution_count": 66,
     "metadata": {},
     "output_type": "execute_result"
    }
   ],
   "source": [
    "df_master['ID'].str.startswith('FT')"
   ]
  },
  {
   "cell_type": "code",
   "execution_count": 67,
   "metadata": {},
   "outputs": [
    {
     "name": "stdout",
     "output_type": "stream",
     "text": [
      "<class 'pandas.core.frame.DataFrame'>\n",
      "Int64Index: 5326 entries, 0 to 9947\n",
      "Data columns (total 24 columns):\n",
      " #   Column             Non-Null Count  Dtype  \n",
      "---  ------             --------------  -----  \n",
      " 0                      5326 non-null   int64  \n",
      " 1   DATA_DATE          5326 non-null   int64  \n",
      " 2   MACN               5326 non-null   object \n",
      " 3   TENCN              5326 non-null   object \n",
      " 4   ID                 2294 non-null   object \n",
      " 5   TKNO               5326 non-null   object \n",
      " 6   CIF_TKNO           4169 non-null   float64\n",
      " 7   TEN_TKNO           5314 non-null   object \n",
      " 8   NGOAITE_TKNO       5326 non-null   object \n",
      " 9   SOTIEN_NT_TKNO     4375 non-null   object \n",
      " 10  SOTIEN_QD_TKNO     5326 non-null   object \n",
      " 11  TKCO               5326 non-null   object \n",
      " 12  CIF_TKCO           3431 non-null   float64\n",
      " 13  TEN_TKCO           5313 non-null   object \n",
      " 14  NGOAITE_TKCO       5326 non-null   object \n",
      " 15  SOTIEN_NT_TKCO     5326 non-null   int64  \n",
      " 16  SOTIEN_QD_TKCO     5326 non-null   int64  \n",
      " 17  NOIDUNG            5233 non-null   object \n",
      " 18  INPUTTER           1006 non-null   object \n",
      " 19  AUTHORISER         1031 non-null   object \n",
      " 20  TRANS_NO           0 non-null      object \n",
      " 21  TAI_KHOAN_DOI_UNG  0 non-null      object \n",
      " 22  TEN_DOI_UNG        0 non-null      object \n",
      " 23  NGAN_HANG_DOI_UNG  0 non-null      object \n",
      "dtypes: float64(2), int64(4), object(18)\n",
      "memory usage: 1.0+ MB\n"
     ]
    }
   ],
   "source": [
    "df_master.info()"
   ]
  },
  {
   "cell_type": "code",
   "execution_count": 31,
   "metadata": {},
   "outputs": [],
   "source": [
    "df = pd.read_excel(r\"D:\\python\\bank-Statement\\check-Statements-File\\oldYear\\master_account.xlsx\")"
   ]
  },
  {
   "cell_type": "code",
   "execution_count": 32,
   "metadata": {},
   "outputs": [
    {
     "name": "stdout",
     "output_type": "stream",
     "text": [
      "<class 'pandas.core.frame.DataFrame'>\n",
      "RangeIndex: 1974 entries, 0 to 1973\n",
      "Data columns (total 4 columns):\n",
      " #   Column              Non-Null Count  Dtype \n",
      "---  ------              --------------  ----- \n",
      " 0   ID                  1974 non-null   object\n",
      " 1   DEBIT_ACCOUNT       1974 non-null   object\n",
      " 2   CREDIT_ACCOUNT      1974 non-null   object\n",
      " 3   T_TRANSACTION_TYPE  1974 non-null   object\n",
      "dtypes: object(4)\n",
      "memory usage: 61.8+ KB\n"
     ]
    }
   ],
   "source": [
    "df.info()"
   ]
  },
  {
   "cell_type": "code",
   "execution_count": 38,
   "metadata": {},
   "outputs": [
    {
     "name": "stdout",
     "output_type": "stream",
     "text": [
      "29\n"
     ]
    }
   ],
   "source": [
    "lenght = df['DEBIT_ACCOUNT'].unique()\n",
    "\n",
    "print(len(lenght))"
   ]
  },
  {
   "cell_type": "code",
   "execution_count": 34,
   "metadata": {},
   "outputs": [
    {
     "data": {
      "text/html": [
       "<div>\n",
       "<style scoped>\n",
       "    .dataframe tbody tr th:only-of-type {\n",
       "        vertical-align: middle;\n",
       "    }\n",
       "\n",
       "    .dataframe tbody tr th {\n",
       "        vertical-align: top;\n",
       "    }\n",
       "\n",
       "    .dataframe thead th {\n",
       "        text-align: right;\n",
       "    }\n",
       "</style>\n",
       "<table border=\"1\" class=\"dataframe\">\n",
       "  <thead>\n",
       "    <tr style=\"text-align: right;\">\n",
       "      <th></th>\n",
       "      <th>ID</th>\n",
       "      <th>DEBIT_ACCOUNT</th>\n",
       "      <th>CREDIT_ACCOUNT</th>\n",
       "      <th>T_TRANSACTION_TYPE</th>\n",
       "    </tr>\n",
       "  </thead>\n",
       "  <tbody>\n",
       "    <tr>\n",
       "      <th>0</th>\n",
       "      <td>FT18009BN415;1</td>\n",
       "      <td>0008100007845007</td>\n",
       "      <td>0030100002402008</td>\n",
       "      <td>ACPB</td>\n",
       "    </tr>\n",
       "    <tr>\n",
       "      <th>1</th>\n",
       "      <td>FT18005LBPCZ;1</td>\n",
       "      <td>0008100003666003</td>\n",
       "      <td>PL52716</td>\n",
       "      <td>AC</td>\n",
       "    </tr>\n",
       "    <tr>\n",
       "      <th>2</th>\n",
       "      <td>FT18009ZRF7N;1</td>\n",
       "      <td>0008100006236007</td>\n",
       "      <td>0168160001052007</td>\n",
       "      <td>ACAM</td>\n",
       "    </tr>\n",
       "    <tr>\n",
       "      <th>9</th>\n",
       "      <td>FT180087CS41;1</td>\n",
       "      <td>VND1252001000001</td>\n",
       "      <td>0008100006236007</td>\n",
       "      <td>AC8S</td>\n",
       "    </tr>\n",
       "    <tr>\n",
       "      <th>17</th>\n",
       "      <td>FT180024KRWR;1</td>\n",
       "      <td>0008100004809002</td>\n",
       "      <td>0008100004658004</td>\n",
       "      <td>ACIB</td>\n",
       "    </tr>\n",
       "    <tr>\n",
       "      <th>19</th>\n",
       "      <td>FT1801800728;1</td>\n",
       "      <td>VND1384500000001</td>\n",
       "      <td>0008100004809002</td>\n",
       "      <td>AC</td>\n",
       "    </tr>\n",
       "    <tr>\n",
       "      <th>27</th>\n",
       "      <td>FT18017JYJL7;1</td>\n",
       "      <td>0008100001887002</td>\n",
       "      <td>0008100006236007</td>\n",
       "      <td>ACIB</td>\n",
       "    </tr>\n",
       "    <tr>\n",
       "      <th>30</th>\n",
       "      <td>FT18015QZCHJ;1</td>\n",
       "      <td>0117100000534008</td>\n",
       "      <td>0008100004809002</td>\n",
       "      <td>ACIB</td>\n",
       "    </tr>\n",
       "    <tr>\n",
       "      <th>43</th>\n",
       "      <td>FT18026KV1Y0;1</td>\n",
       "      <td>0001500000006005</td>\n",
       "      <td>0008100006236007</td>\n",
       "      <td>BIIB</td>\n",
       "    </tr>\n",
       "    <tr>\n",
       "      <th>46</th>\n",
       "      <td>FT1803145MP5;1</td>\n",
       "      <td>VND1750011790008</td>\n",
       "      <td>0008100004809002</td>\n",
       "      <td>ACLO</td>\n",
       "    </tr>\n",
       "    <tr>\n",
       "      <th>62</th>\n",
       "      <td>FT180399T25F;1</td>\n",
       "      <td>VND1750010010004</td>\n",
       "      <td>0008100006236007</td>\n",
       "      <td>ACLO</td>\n",
       "    </tr>\n",
       "    <tr>\n",
       "      <th>84</th>\n",
       "      <td>FT18061DY9QC;1</td>\n",
       "      <td>0008100004658004</td>\n",
       "      <td>0008100004809002</td>\n",
       "      <td>ACMB</td>\n",
       "    </tr>\n",
       "    <tr>\n",
       "      <th>122</th>\n",
       "      <td>FT18082V9H4D;1</td>\n",
       "      <td>0001500000289007</td>\n",
       "      <td>0008100004809002</td>\n",
       "      <td>ACIX</td>\n",
       "    </tr>\n",
       "    <tr>\n",
       "      <th>146</th>\n",
       "      <td>FT181003B07Y;1</td>\n",
       "      <td>0008100007844003</td>\n",
       "      <td>0008100006236007</td>\n",
       "      <td>ACAT</td>\n",
       "    </tr>\n",
       "    <tr>\n",
       "      <th>164</th>\n",
       "      <td>FT1833991G88;1</td>\n",
       "      <td>VND1252011000001</td>\n",
       "      <td>0008100004809002</td>\n",
       "      <td>AC8S</td>\n",
       "    </tr>\n",
       "    <tr>\n",
       "      <th>165</th>\n",
       "      <td>FT18338P2P9D;1</td>\n",
       "      <td>0008100001647001</td>\n",
       "      <td>0008100006236007</td>\n",
       "      <td>ACIB</td>\n",
       "    </tr>\n",
       "    <tr>\n",
       "      <th>195</th>\n",
       "      <td>FT183556CDSL;1</td>\n",
       "      <td>0008100008393005</td>\n",
       "      <td>0008100006236007</td>\n",
       "      <td>ACMB</td>\n",
       "    </tr>\n",
       "    <tr>\n",
       "      <th>287</th>\n",
       "      <td>FT182980HN6R;1</td>\n",
       "      <td>0008100001179008</td>\n",
       "      <td>0008100006236007</td>\n",
       "      <td>AC</td>\n",
       "    </tr>\n",
       "    <tr>\n",
       "      <th>451</th>\n",
       "      <td>FT18212KKV40;1</td>\n",
       "      <td>VND1264510000001</td>\n",
       "      <td>0008100006236007</td>\n",
       "      <td>ACLO</td>\n",
       "    </tr>\n",
       "    <tr>\n",
       "      <th>720</th>\n",
       "      <td>FT19074GWMBC;1</td>\n",
       "      <td>0008100006513003</td>\n",
       "      <td>0008100006236007</td>\n",
       "      <td>ACIB</td>\n",
       "    </tr>\n",
       "    <tr>\n",
       "      <th>732</th>\n",
       "      <td>FT19075RNGC8;1</td>\n",
       "      <td>0008100006689004</td>\n",
       "      <td>0008100006236007</td>\n",
       "      <td>ACIB</td>\n",
       "    </tr>\n",
       "    <tr>\n",
       "      <th>775</th>\n",
       "      <td>FT19078Y2YRW;1</td>\n",
       "      <td>0008100003668006</td>\n",
       "      <td>0008100006236007</td>\n",
       "      <td>ACIB</td>\n",
       "    </tr>\n",
       "    <tr>\n",
       "      <th>1008</th>\n",
       "      <td>FT19220SRRD2;1</td>\n",
       "      <td>0008100001676001</td>\n",
       "      <td>0008100004809002</td>\n",
       "      <td>ACIB</td>\n",
       "    </tr>\n",
       "    <tr>\n",
       "      <th>1045</th>\n",
       "      <td>FT1924700834;1</td>\n",
       "      <td>VND1384500020001</td>\n",
       "      <td>0008100004809002</td>\n",
       "      <td>AC</td>\n",
       "    </tr>\n",
       "    <tr>\n",
       "      <th>1061</th>\n",
       "      <td>FT19254LX2K7;1</td>\n",
       "      <td>0008100007922004</td>\n",
       "      <td>0008100004809002</td>\n",
       "      <td>ACAT</td>\n",
       "    </tr>\n",
       "    <tr>\n",
       "      <th>1129</th>\n",
       "      <td>FT19295JZ3NS;1</td>\n",
       "      <td>0100100034259005</td>\n",
       "      <td>0008100006236007</td>\n",
       "      <td>AC</td>\n",
       "    </tr>\n",
       "    <tr>\n",
       "      <th>1146</th>\n",
       "      <td>FT19304H0QY0;1</td>\n",
       "      <td>VND1753810000008</td>\n",
       "      <td>0008100004809002</td>\n",
       "      <td>ACIB</td>\n",
       "    </tr>\n",
       "    <tr>\n",
       "      <th>1369</th>\n",
       "      <td>FT203290QQP8;1</td>\n",
       "      <td>VND1840619040001</td>\n",
       "      <td>0008100006236007</td>\n",
       "      <td>ACIB</td>\n",
       "    </tr>\n",
       "    <tr>\n",
       "      <th>1390</th>\n",
       "      <td>FT20035NCFGX;1</td>\n",
       "      <td>VND1261010100008</td>\n",
       "      <td>0008100007845007</td>\n",
       "      <td>AC</td>\n",
       "    </tr>\n",
       "  </tbody>\n",
       "</table>\n",
       "</div>"
      ],
      "text/plain": [
       "                  ID     DEBIT_ACCOUNT    CREDIT_ACCOUNT T_TRANSACTION_TYPE\n",
       "0     FT18009BN415;1  0008100007845007  0030100002402008               ACPB\n",
       "1     FT18005LBPCZ;1  0008100003666003           PL52716                 AC\n",
       "2     FT18009ZRF7N;1  0008100006236007  0168160001052007               ACAM\n",
       "9     FT180087CS41;1  VND1252001000001  0008100006236007               AC8S\n",
       "17    FT180024KRWR;1  0008100004809002  0008100004658004               ACIB\n",
       "19    FT1801800728;1  VND1384500000001  0008100004809002                 AC\n",
       "27    FT18017JYJL7;1  0008100001887002  0008100006236007               ACIB\n",
       "30    FT18015QZCHJ;1  0117100000534008  0008100004809002               ACIB\n",
       "43    FT18026KV1Y0;1  0001500000006005  0008100006236007               BIIB\n",
       "46    FT1803145MP5;1  VND1750011790008  0008100004809002               ACLO\n",
       "62    FT180399T25F;1  VND1750010010004  0008100006236007               ACLO\n",
       "84    FT18061DY9QC;1  0008100004658004  0008100004809002               ACMB\n",
       "122   FT18082V9H4D;1  0001500000289007  0008100004809002               ACIX\n",
       "146   FT181003B07Y;1  0008100007844003  0008100006236007               ACAT\n",
       "164   FT1833991G88;1  VND1252011000001  0008100004809002               AC8S\n",
       "165   FT18338P2P9D;1  0008100001647001  0008100006236007               ACIB\n",
       "195   FT183556CDSL;1  0008100008393005  0008100006236007               ACMB\n",
       "287   FT182980HN6R;1  0008100001179008  0008100006236007                 AC\n",
       "451   FT18212KKV40;1  VND1264510000001  0008100006236007               ACLO\n",
       "720   FT19074GWMBC;1  0008100006513003  0008100006236007               ACIB\n",
       "732   FT19075RNGC8;1  0008100006689004  0008100006236007               ACIB\n",
       "775   FT19078Y2YRW;1  0008100003668006  0008100006236007               ACIB\n",
       "1008  FT19220SRRD2;1  0008100001676001  0008100004809002               ACIB\n",
       "1045  FT1924700834;1  VND1384500020001  0008100004809002                 AC\n",
       "1061  FT19254LX2K7;1  0008100007922004  0008100004809002               ACAT\n",
       "1129  FT19295JZ3NS;1  0100100034259005  0008100006236007                 AC\n",
       "1146  FT19304H0QY0;1  VND1753810000008  0008100004809002               ACIB\n",
       "1369  FT203290QQP8;1  VND1840619040001  0008100006236007               ACIB\n",
       "1390  FT20035NCFGX;1  VND1261010100008  0008100007845007                 AC"
      ]
     },
     "execution_count": 34,
     "metadata": {},
     "output_type": "execute_result"
    }
   ],
   "source": [
    "df.drop_duplicates('DEBIT_ACCOUNT')"
   ]
  }
 ],
 "metadata": {
  "kernelspec": {
   "display_name": "venv",
   "language": "python",
   "name": "python3"
  },
  "language_info": {
   "codemirror_mode": {
    "name": "ipython",
    "version": 3
   },
   "file_extension": ".py",
   "mimetype": "text/x-python",
   "name": "python",
   "nbconvert_exporter": "python",
   "pygments_lexer": "ipython3",
   "version": "3.10.8"
  },
  "orig_nbformat": 4,
  "vscode": {
   "interpreter": {
    "hash": "112871e96cdaa5228c60d11672a0426685159410226e31df3753e3add527002d"
   }
  }
 },
 "nbformat": 4,
 "nbformat_minor": 2
}
